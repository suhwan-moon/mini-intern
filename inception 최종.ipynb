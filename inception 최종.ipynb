{
 "cells": [
  {
   "cell_type": "code",
   "execution_count": 1,
   "id": "f491873b",
   "metadata": {},
   "outputs": [
    {
     "name": "stdout",
     "output_type": "stream",
     "text": [
      "TF: 2.19.0\n"
     ]
    }
   ],
   "source": [
    "# Cell 1: Imports & Seed\n",
    "import os, json, random, numpy as np, tensorflow as tf\n",
    "from tensorflow import keras\n",
    "from tensorflow.keras import layers\n",
    "from tensorflow.keras.callbacks import EarlyStopping, ReduceLROnPlateau, ModelCheckpoint, CSVLogger\n",
    "from tensorflow.keras.regularizers import l2\n",
    "from keras.applications.inception_v3 import InceptionV3, preprocess_input\n",
    "\n",
    "try:\n",
    "    from sklearn.metrics import classification_report, confusion_matrix\n",
    "    SKLEARN = True\n",
    "except Exception:\n",
    "    SKLEARN = False\n",
    "\n",
    "def set_seed(seed=42):\n",
    "    os.environ[\"PYTHONHASHSEED\"] = str(seed)\n",
    "    random.seed(seed); np.random.seed(seed); tf.random.set_seed(seed)\n",
    "\n",
    "set_seed(42)\n",
    "print(\"TF:\", tf.__version__)\n"
   ]
  },
  {
   "cell_type": "code",
   "execution_count": 2,
   "id": "31a0ab2d",
   "metadata": {},
   "outputs": [
    {
     "name": "stdout",
     "output_type": "stream",
     "text": [
      "{\n",
      "  \"TRAIN_DIR\": \"C:\\\\Users\\\\moont\\\\Desktop\\\\2025miniinterncode\\\\lumbar_spinal_dataset\\\\training\",\n",
      "  \"TEST_DIR\": \"C:\\\\Users\\\\moont\\\\Desktop\\\\2025miniinterncode\\\\lumbar_spinal_dataset\\\\testing\",\n",
      "  \"VAL_SPLIT\": 0.2,\n",
      "  \"IMG_SIZE\": [\n",
      "    299,\n",
      "    299\n",
      "  ],\n",
      "  \"BATCH_SIZE\": 32,\n",
      "  \"SEED\": 42,\n",
      "  \"LABEL_MODE\": \"int\",\n",
      "  \"WARMUP_EPOCHS\": 5,\n",
      "  \"FINETUNE_EPOCHS\": 20,\n",
      "  \"UNFREEZE_TOP_N_LAYERS\": 60,\n",
      "  \"LR_WARMUP\": 0.0003,\n",
      "  \"LR_FINETUNE\": 0.0001,\n",
      "  \"DROPOUT\": 0.4,\n",
      "  \"L2_WEIGHT_DECAY\": 0.0001,\n",
      "  \"EARLYSTOP_PATIENCE\": 6,\n",
      "  \"PLATEAU_FACTOR\": 0.5,\n",
      "  \"PLATEAU_PATIENCE\": 3,\n",
      "  \"MIN_LR\": 1e-06,\n",
      "  \"USE_CLASS_WEIGHTS\": true,\n",
      "  \"OUTPUT_DIR\": \"./outputs_inceptionv3\",\n",
      "  \"MODEL_NAME\": \"inceptionv3_finetuned\"\n",
      "}\n"
     ]
    }
   ],
   "source": [
    "# Cell 2: CONFIG (여기 경로만 수정하세요)\n",
    "DATA_ROOT = r\"C:\\Users\\moont\\Desktop\\2025miniinterncode\\lumbar_spinal_dataset\"  # <- 당신 경로\n",
    "CONFIG = {\n",
    "    \"TRAIN_DIR\": os.path.join(DATA_ROOT, \"training\"),\n",
    "    \"TEST_DIR\":  os.path.join(DATA_ROOT, \"testing\"),\n",
    "    \"VAL_SPLIT\": 0.2,              # training에서 validation 비율\n",
    "    \"IMG_SIZE\": (299, 299),        # InceptionV3 권장 입력\n",
    "    \"BATCH_SIZE\": 32,\n",
    "    \"SEED\": 42,\n",
    "    \"LABEL_MODE\": \"int\",           # sparse labels\n",
    "\n",
    "    \"WARMUP_EPOCHS\": 5,\n",
    "    \"FINETUNE_EPOCHS\": 20,\n",
    "    \"UNFREEZE_TOP_N_LAYERS\": 60,\n",
    "    \"LR_WARMUP\": 3e-4,\n",
    "    \"LR_FINETUNE\": 1e-4,\n",
    "    \"DROPOUT\": 0.4,\n",
    "    \"L2_WEIGHT_DECAY\": 1e-4,\n",
    "\n",
    "    \"EARLYSTOP_PATIENCE\": 6,\n",
    "    \"PLATEAU_FACTOR\": 0.5,\n",
    "    \"PLATEAU_PATIENCE\": 3,\n",
    "    \"MIN_LR\": 1e-6,\n",
    "\n",
    "    \"USE_CLASS_WEIGHTS\": True,\n",
    "    \"OUTPUT_DIR\": \"./outputs_inceptionv3\",\n",
    "    \"MODEL_NAME\": \"inceptionv3_finetuned\",\n",
    "}\n",
    "os.makedirs(CONFIG[\"OUTPUT_DIR\"], exist_ok=True)\n",
    "print(json.dumps(CONFIG, indent=2))\n"
   ]
  },
  {
   "cell_type": "code",
   "execution_count": 3,
   "id": "612e78bd",
   "metadata": {},
   "outputs": [
    {
     "name": "stdout",
     "output_type": "stream",
     "text": [
      "[Info] GPUs: 0\n"
     ]
    }
   ],
   "source": [
    "# Cell 3: GPU 메모리 그로스\n",
    "try:\n",
    "    gpus = tf.config.experimental.list_physical_devices('GPU')\n",
    "    for gpu in gpus:\n",
    "        tf.config.experimental.set_memory_growth(gpu, True)\n",
    "    print(f\"[Info] GPUs: {len(gpus)}\")\n",
    "except Exception as e:\n",
    "    print(\"[Warn] GPU setup skipped:\", e)\n"
   ]
  },
  {
   "cell_type": "code",
   "execution_count": 4,
   "id": "3612b462",
   "metadata": {},
   "outputs": [
    {
     "name": "stdout",
     "output_type": "stream",
     "text": [
      "[CANONICAL_CLASSES] ['Herniated_Disc', 'No_Stenosis', 'Thecal_Sac']\n",
      "Found 4808 files belonging to 3 classes.\n",
      "Using 3847 files for training.\n",
      "Found 4808 files belonging to 3 classes.\n",
      "Using 961 files for validation.\n",
      "Found 1158 files belonging to 3 classes.\n",
      "train: ['Herniated_Disc', 'No_Stenosis', 'Thecal_Sac']\n",
      "val:   ['Herniated_Disc', 'No_Stenosis', 'Thecal_Sac']\n",
      "test:  ['Herniated_Disc', 'No_Stenosis', 'Thecal_Sac']\n",
      "Classes: ['Herniated_Disc', 'No_Stenosis', 'Thecal_Sac']\n"
     ]
    }
   ],
   "source": [
    "# Cell 4: Build datasets (CONSISTENT class order)\n",
    "def build_datasets(cfg):\n",
    "    img_size = cfg[\"IMG_SIZE\"]; bs = cfg[\"BATCH_SIZE\"]; seed = cfg[\"SEED\"]\n",
    "\n",
    "    # 1) 학습 폴더에서 '정식' 클래스 순서를 하나로 고정\n",
    "    CANONICAL_CLASSES = sorted([\n",
    "        d for d in os.listdir(cfg[\"TRAIN_DIR\"])\n",
    "        if os.path.isdir(os.path.join(cfg[\"TRAIN_DIR\"], d))\n",
    "    ])\n",
    "    print(\"[CANONICAL_CLASSES]\", CANONICAL_CLASSES)\n",
    "\n",
    "    # 2) train/val: training에서 분할, test: testing 사용\n",
    "    train_raw = keras.preprocessing.image_dataset_from_directory(\n",
    "        cfg[\"TRAIN_DIR\"], image_size=img_size, batch_size=bs, seed=seed,\n",
    "        validation_split=cfg[\"VAL_SPLIT\"], subset=\"training\",\n",
    "        label_mode=cfg[\"LABEL_MODE\"], color_mode=\"rgb\", shuffle=True,\n",
    "        class_names=CANONICAL_CLASSES  # <<< 고정!\n",
    "    )\n",
    "    val_raw = keras.preprocessing.image_dataset_from_directory(\n",
    "        cfg[\"TRAIN_DIR\"], image_size=img_size, batch_size=bs, seed=seed,\n",
    "        validation_split=cfg[\"VAL_SPLIT\"], subset=\"validation\",\n",
    "        label_mode=cfg[\"LABEL_MODE\"], color_mode=\"rgb\", shuffle=False,\n",
    "        class_names=CANONICAL_CLASSES  # <<< 고정!\n",
    "    )\n",
    "    test_raw = keras.preprocessing.image_dataset_from_directory(\n",
    "        cfg[\"TEST_DIR\"], image_size=img_size, batch_size=bs, seed=seed,\n",
    "        label_mode=cfg[\"LABEL_MODE\"], color_mode=\"rgb\", shuffle=False,\n",
    "        class_names=CANONICAL_CLASSES  # <<< 고정!\n",
    "    )\n",
    "\n",
    "    # 가벼운 증강 + InceptionV3 전처리(중복 정규화 금지)\n",
    "    augment = keras.Sequential([\n",
    "        layers.RandomFlip(\"horizontal\"),\n",
    "        layers.RandomRotation(0.05),\n",
    "        layers.RandomZoom(0.10),\n",
    "        layers.RandomTranslation(0.05, 0.05),\n",
    "    ], name=\"augment\")\n",
    "    AUTOTUNE = tf.data.AUTOTUNE\n",
    "    def tr_map(x, y): return preprocess_input(augment(x)), y\n",
    "    def ev_map(x, y): return preprocess_input(x), y\n",
    "\n",
    "    train_ds = train_raw.map(tr_map, num_parallel_calls=AUTOTUNE)\\\n",
    "                        .shuffle(1000, seed=seed).prefetch(AUTOTUNE)\n",
    "    val_ds   = val_raw.map(ev_map,   num_parallel_calls=AUTOTUNE).prefetch(AUTOTUNE)\n",
    "    test_ds  = test_raw.map(ev_map,  num_parallel_calls=AUTOTUNE).prefetch(AUTOTUNE)\n",
    "\n",
    "    # 매핑 확인(세 세트가 반드시 동일해야 함)\n",
    "    print(\"train:\", train_raw.class_names)\n",
    "    print(\"val:  \", val_raw.class_names)\n",
    "    print(\"test: \", test_raw.class_names)\n",
    "\n",
    "    return train_raw, train_ds, val_ds, test_ds, CANONICAL_CLASSES\n",
    "\n",
    "train_raw, train_ds, val_ds, test_ds, class_names = build_datasets(CONFIG)\n",
    "NUM_CLASSES = len(class_names)\n",
    "print(\"Classes:\", class_names)\n"
   ]
  },
  {
   "cell_type": "code",
   "execution_count": 5,
   "id": "6738e0b7",
   "metadata": {},
   "outputs": [
    {
     "name": "stdout",
     "output_type": "stream",
     "text": [
      "[Class counts] [1545, 1203, 1099]\n",
      "[Class weights] {0: 0.8299892125134843, 1: 1.0659462454973676, 2: 1.1668183196845616}\n"
     ]
    }
   ],
   "source": [
    "# Cell 5: Class weights from train_raw\n",
    "import numpy as np\n",
    "\n",
    "def compute_class_weights(ds_raw, n_classes):\n",
    "    counts = np.zeros(n_classes, dtype=np.int64)\n",
    "    for _, y in ds_raw.unbatch().batch(4096):\n",
    "        y = y.numpy().astype(int)\n",
    "        for i in y: counts[int(i)] += 1\n",
    "    total = counts.sum()\n",
    "    counts = np.where(counts == 0, 1, counts)\n",
    "    weights = {i: float(total) / (n_classes * float(counts[i])) for i in range(n_classes)}\n",
    "    print(\"[Class counts]\", counts.tolist()); print(\"[Class weights]\", weights)\n",
    "    return weights\n",
    "\n",
    "CLASS_WEIGHTS = compute_class_weights(train_raw, NUM_CLASSES) if CONFIG[\"USE_CLASS_WEIGHTS\"] else None\n"
   ]
  },
  {
   "cell_type": "code",
   "execution_count": 6,
   "id": "6eb35ca4",
   "metadata": {},
   "outputs": [
    {
     "data": {
      "text/html": [
       "<pre style=\"white-space:pre;overflow-x:auto;line-height:normal;font-family:Menlo,'DejaVu Sans Mono',consolas,'Courier New',monospace\"><span style=\"font-weight: bold\">Model: \"functional_1\"</span>\n",
       "</pre>\n"
      ],
      "text/plain": [
       "\u001b[1mModel: \"functional_1\"\u001b[0m\n"
      ]
     },
     "metadata": {},
     "output_type": "display_data"
    },
    {
     "data": {
      "text/html": [
       "<pre style=\"white-space:pre;overflow-x:auto;line-height:normal;font-family:Menlo,'DejaVu Sans Mono',consolas,'Courier New',monospace\">┏━━━━━━━━━━━━━━━━━━━━━━━━━━━━━━━━━┳━━━━━━━━━━━━━━━━━━━━━━━━┳━━━━━━━━━━━━━━━┓\n",
       "┃<span style=\"font-weight: bold\"> Layer (type)                    </span>┃<span style=\"font-weight: bold\"> Output Shape           </span>┃<span style=\"font-weight: bold\">       Param # </span>┃\n",
       "┡━━━━━━━━━━━━━━━━━━━━━━━━━━━━━━━━━╇━━━━━━━━━━━━━━━━━━━━━━━━╇━━━━━━━━━━━━━━━┩\n",
       "│ input_layer_2 (<span style=\"color: #0087ff; text-decoration-color: #0087ff\">InputLayer</span>)      │ (<span style=\"color: #00d7ff; text-decoration-color: #00d7ff\">None</span>, <span style=\"color: #00af00; text-decoration-color: #00af00\">299</span>, <span style=\"color: #00af00; text-decoration-color: #00af00\">299</span>, <span style=\"color: #00af00; text-decoration-color: #00af00\">3</span>)    │             <span style=\"color: #00af00; text-decoration-color: #00af00\">0</span> │\n",
       "├─────────────────────────────────┼────────────────────────┼───────────────┤\n",
       "│ inception_v3 (<span style=\"color: #0087ff; text-decoration-color: #0087ff\">Functional</span>)       │ (<span style=\"color: #00d7ff; text-decoration-color: #00d7ff\">None</span>, <span style=\"color: #00af00; text-decoration-color: #00af00\">8</span>, <span style=\"color: #00af00; text-decoration-color: #00af00\">8</span>, <span style=\"color: #00af00; text-decoration-color: #00af00\">2048</span>)     │    <span style=\"color: #00af00; text-decoration-color: #00af00\">21,802,784</span> │\n",
       "├─────────────────────────────────┼────────────────────────┼───────────────┤\n",
       "│ global_average_pooling2d        │ (<span style=\"color: #00d7ff; text-decoration-color: #00d7ff\">None</span>, <span style=\"color: #00af00; text-decoration-color: #00af00\">2048</span>)           │             <span style=\"color: #00af00; text-decoration-color: #00af00\">0</span> │\n",
       "│ (<span style=\"color: #0087ff; text-decoration-color: #0087ff\">GlobalAveragePooling2D</span>)        │                        │               │\n",
       "├─────────────────────────────────┼────────────────────────┼───────────────┤\n",
       "│ dropout (<span style=\"color: #0087ff; text-decoration-color: #0087ff\">Dropout</span>)               │ (<span style=\"color: #00d7ff; text-decoration-color: #00d7ff\">None</span>, <span style=\"color: #00af00; text-decoration-color: #00af00\">2048</span>)           │             <span style=\"color: #00af00; text-decoration-color: #00af00\">0</span> │\n",
       "├─────────────────────────────────┼────────────────────────┼───────────────┤\n",
       "│ dense (<span style=\"color: #0087ff; text-decoration-color: #0087ff\">Dense</span>)                   │ (<span style=\"color: #00d7ff; text-decoration-color: #00d7ff\">None</span>, <span style=\"color: #00af00; text-decoration-color: #00af00\">512</span>)            │     <span style=\"color: #00af00; text-decoration-color: #00af00\">1,049,088</span> │\n",
       "├─────────────────────────────────┼────────────────────────┼───────────────┤\n",
       "│ dropout_1 (<span style=\"color: #0087ff; text-decoration-color: #0087ff\">Dropout</span>)             │ (<span style=\"color: #00d7ff; text-decoration-color: #00d7ff\">None</span>, <span style=\"color: #00af00; text-decoration-color: #00af00\">512</span>)            │             <span style=\"color: #00af00; text-decoration-color: #00af00\">0</span> │\n",
       "├─────────────────────────────────┼────────────────────────┼───────────────┤\n",
       "│ dense_1 (<span style=\"color: #0087ff; text-decoration-color: #0087ff\">Dense</span>)                 │ (<span style=\"color: #00d7ff; text-decoration-color: #00d7ff\">None</span>, <span style=\"color: #00af00; text-decoration-color: #00af00\">3</span>)              │         <span style=\"color: #00af00; text-decoration-color: #00af00\">1,539</span> │\n",
       "└─────────────────────────────────┴────────────────────────┴───────────────┘\n",
       "</pre>\n"
      ],
      "text/plain": [
       "┏━━━━━━━━━━━━━━━━━━━━━━━━━━━━━━━━━┳━━━━━━━━━━━━━━━━━━━━━━━━┳━━━━━━━━━━━━━━━┓\n",
       "┃\u001b[1m \u001b[0m\u001b[1mLayer (type)                   \u001b[0m\u001b[1m \u001b[0m┃\u001b[1m \u001b[0m\u001b[1mOutput Shape          \u001b[0m\u001b[1m \u001b[0m┃\u001b[1m \u001b[0m\u001b[1m      Param #\u001b[0m\u001b[1m \u001b[0m┃\n",
       "┡━━━━━━━━━━━━━━━━━━━━━━━━━━━━━━━━━╇━━━━━━━━━━━━━━━━━━━━━━━━╇━━━━━━━━━━━━━━━┩\n",
       "│ input_layer_2 (\u001b[38;5;33mInputLayer\u001b[0m)      │ (\u001b[38;5;45mNone\u001b[0m, \u001b[38;5;34m299\u001b[0m, \u001b[38;5;34m299\u001b[0m, \u001b[38;5;34m3\u001b[0m)    │             \u001b[38;5;34m0\u001b[0m │\n",
       "├─────────────────────────────────┼────────────────────────┼───────────────┤\n",
       "│ inception_v3 (\u001b[38;5;33mFunctional\u001b[0m)       │ (\u001b[38;5;45mNone\u001b[0m, \u001b[38;5;34m8\u001b[0m, \u001b[38;5;34m8\u001b[0m, \u001b[38;5;34m2048\u001b[0m)     │    \u001b[38;5;34m21,802,784\u001b[0m │\n",
       "├─────────────────────────────────┼────────────────────────┼───────────────┤\n",
       "│ global_average_pooling2d        │ (\u001b[38;5;45mNone\u001b[0m, \u001b[38;5;34m2048\u001b[0m)           │             \u001b[38;5;34m0\u001b[0m │\n",
       "│ (\u001b[38;5;33mGlobalAveragePooling2D\u001b[0m)        │                        │               │\n",
       "├─────────────────────────────────┼────────────────────────┼───────────────┤\n",
       "│ dropout (\u001b[38;5;33mDropout\u001b[0m)               │ (\u001b[38;5;45mNone\u001b[0m, \u001b[38;5;34m2048\u001b[0m)           │             \u001b[38;5;34m0\u001b[0m │\n",
       "├─────────────────────────────────┼────────────────────────┼───────────────┤\n",
       "│ dense (\u001b[38;5;33mDense\u001b[0m)                   │ (\u001b[38;5;45mNone\u001b[0m, \u001b[38;5;34m512\u001b[0m)            │     \u001b[38;5;34m1,049,088\u001b[0m │\n",
       "├─────────────────────────────────┼────────────────────────┼───────────────┤\n",
       "│ dropout_1 (\u001b[38;5;33mDropout\u001b[0m)             │ (\u001b[38;5;45mNone\u001b[0m, \u001b[38;5;34m512\u001b[0m)            │             \u001b[38;5;34m0\u001b[0m │\n",
       "├─────────────────────────────────┼────────────────────────┼───────────────┤\n",
       "│ dense_1 (\u001b[38;5;33mDense\u001b[0m)                 │ (\u001b[38;5;45mNone\u001b[0m, \u001b[38;5;34m3\u001b[0m)              │         \u001b[38;5;34m1,539\u001b[0m │\n",
       "└─────────────────────────────────┴────────────────────────┴───────────────┘\n"
      ]
     },
     "metadata": {},
     "output_type": "display_data"
    },
    {
     "data": {
      "text/html": [
       "<pre style=\"white-space:pre;overflow-x:auto;line-height:normal;font-family:Menlo,'DejaVu Sans Mono',consolas,'Courier New',monospace\"><span style=\"font-weight: bold\"> Total params: </span><span style=\"color: #00af00; text-decoration-color: #00af00\">22,853,411</span> (87.18 MB)\n",
       "</pre>\n"
      ],
      "text/plain": [
       "\u001b[1m Total params: \u001b[0m\u001b[38;5;34m22,853,411\u001b[0m (87.18 MB)\n"
      ]
     },
     "metadata": {},
     "output_type": "display_data"
    },
    {
     "data": {
      "text/html": [
       "<pre style=\"white-space:pre;overflow-x:auto;line-height:normal;font-family:Menlo,'DejaVu Sans Mono',consolas,'Courier New',monospace\"><span style=\"font-weight: bold\"> Trainable params: </span><span style=\"color: #00af00; text-decoration-color: #00af00\">1,050,627</span> (4.01 MB)\n",
       "</pre>\n"
      ],
      "text/plain": [
       "\u001b[1m Trainable params: \u001b[0m\u001b[38;5;34m1,050,627\u001b[0m (4.01 MB)\n"
      ]
     },
     "metadata": {},
     "output_type": "display_data"
    },
    {
     "data": {
      "text/html": [
       "<pre style=\"white-space:pre;overflow-x:auto;line-height:normal;font-family:Menlo,'DejaVu Sans Mono',consolas,'Courier New',monospace\"><span style=\"font-weight: bold\"> Non-trainable params: </span><span style=\"color: #00af00; text-decoration-color: #00af00\">21,802,784</span> (83.17 MB)\n",
       "</pre>\n"
      ],
      "text/plain": [
       "\u001b[1m Non-trainable params: \u001b[0m\u001b[38;5;34m21,802,784\u001b[0m (83.17 MB)\n"
      ]
     },
     "metadata": {},
     "output_type": "display_data"
    }
   ],
   "source": [
    "# Cell 6: Build model\n",
    "def build_model(cfg, num_classes):\n",
    "    base = InceptionV3(include_top=False, weights=\"imagenet\", input_shape=cfg[\"IMG_SIZE\"] + (3,))\n",
    "    base.trainable = False\n",
    "\n",
    "    inputs = keras.Input(shape=cfg[\"IMG_SIZE\"] + (3,))\n",
    "    x = base(inputs, training=False)\n",
    "    x = layers.GlobalAveragePooling2D()(x)\n",
    "    x = layers.Dropout(cfg[\"DROPOUT\"])(x)\n",
    "    x = layers.Dense(512, activation=\"relu\", kernel_regularizer=l2(cfg[\"L2_WEIGHT_DECAY\"]))(x)\n",
    "    x = layers.Dropout(cfg[\"DROPOUT\"])(x)\n",
    "    outputs = layers.Dense(num_classes, activation=\"softmax\", dtype=\"float32\")(x)\n",
    "    return keras.Model(inputs, outputs), base\n",
    "\n",
    "model, base = build_model(CONFIG, NUM_CLASSES)\n",
    "model.summary()\n"
   ]
  },
  {
   "cell_type": "code",
   "execution_count": 7,
   "id": "5fbc4894",
   "metadata": {},
   "outputs": [],
   "source": [
    "# Cell 7: Callbacks\n",
    "ckpt_best = os.path.join(CONFIG[\"OUTPUT_DIR\"], f\"{CONFIG['MODEL_NAME']}_best.keras\")\n",
    "callbacks = [\n",
    "    EarlyStopping(monitor=\"val_loss\", patience=CONFIG[\"EARLYSTOP_PATIENCE\"], restore_best_weights=True),\n",
    "    ReduceLROnPlateau(monitor=\"val_loss\", factor=CONFIG[\"PLATEAU_FACTOR\"],\n",
    "                      patience=CONFIG[\"PLATEAU_PATIENCE\"], min_lr=CONFIG[\"MIN_LR\"]),\n",
    "    ModelCheckpoint(ckpt_best, monitor=\"val_loss\", save_best_only=True, verbose=1),\n",
    "    CSVLogger(os.path.join(CONFIG[\"OUTPUT_DIR\"], f\"{CONFIG['MODEL_NAME']}_log.csv\"))\n",
    "]\n"
   ]
  },
  {
   "cell_type": "code",
   "execution_count": 8,
   "id": "c97219a5",
   "metadata": {},
   "outputs": [
    {
     "name": "stdout",
     "output_type": "stream",
     "text": [
      "[Stage 1] backbone frozen\n",
      "Epoch 1/5\n",
      "\u001b[1m121/121\u001b[0m \u001b[32m━━━━━━━━━━━━━━━━━━━━\u001b[0m\u001b[37m\u001b[0m \u001b[1m0s\u001b[0m 817ms/step - accuracy: 0.3434 - loss: 1.4000\n",
      "Epoch 1: val_loss improved from None to 1.08680, saving model to ./outputs_inceptionv3\\inceptionv3_finetuned_best.keras\n",
      "\u001b[1m121/121\u001b[0m \u001b[32m━━━━━━━━━━━━━━━━━━━━\u001b[0m\u001b[37m\u001b[0m \u001b[1m143s\u001b[0m 1s/step - accuracy: 0.3527 - loss: 1.3075 - val_accuracy: 0.5619 - val_loss: 1.0868 - learning_rate: 3.0000e-04\n",
      "Epoch 2/5\n",
      "\u001b[1m121/121\u001b[0m \u001b[32m━━━━━━━━━━━━━━━━━━━━\u001b[0m\u001b[37m\u001b[0m \u001b[1m0s\u001b[0m 823ms/step - accuracy: 0.3979 - loss: 1.1828\n",
      "Epoch 2: val_loss improved from 1.08680 to 0.82671, saving model to ./outputs_inceptionv3\\inceptionv3_finetuned_best.keras\n",
      "\u001b[1m121/121\u001b[0m \u001b[32m━━━━━━━━━━━━━━━━━━━━\u001b[0m\u001b[37m\u001b[0m \u001b[1m151s\u001b[0m 1s/step - accuracy: 0.3910 - loss: 1.1892 - val_accuracy: 0.8949 - val_loss: 0.8267 - learning_rate: 3.0000e-04\n",
      "Epoch 3/5\n",
      "\u001b[1m121/121\u001b[0m \u001b[32m━━━━━━━━━━━━━━━━━━━━\u001b[0m\u001b[37m\u001b[0m \u001b[1m0s\u001b[0m 809ms/step - accuracy: 0.3890 - loss: 1.1713\n",
      "Epoch 3: val_loss did not improve from 0.82671\n",
      "\u001b[1m121/121\u001b[0m \u001b[32m━━━━━━━━━━━━━━━━━━━━\u001b[0m\u001b[37m\u001b[0m \u001b[1m132s\u001b[0m 1s/step - accuracy: 0.3962 - loss: 1.1641 - val_accuracy: 0.4422 - val_loss: 1.1491 - learning_rate: 3.0000e-04\n",
      "Epoch 4/5\n",
      "\u001b[1m121/121\u001b[0m \u001b[32m━━━━━━━━━━━━━━━━━━━━\u001b[0m\u001b[37m\u001b[0m \u001b[1m0s\u001b[0m 803ms/step - accuracy: 0.3902 - loss: 1.1623\n",
      "Epoch 4: val_loss did not improve from 0.82671\n",
      "\u001b[1m121/121\u001b[0m \u001b[32m━━━━━━━━━━━━━━━━━━━━\u001b[0m\u001b[37m\u001b[0m \u001b[1m129s\u001b[0m 1s/step - accuracy: 0.4063 - loss: 1.1560 - val_accuracy: 0.7253 - val_loss: 1.0527 - learning_rate: 3.0000e-04\n",
      "Epoch 5/5\n",
      "\u001b[1m121/121\u001b[0m \u001b[32m━━━━━━━━━━━━━━━━━━━━\u001b[0m\u001b[37m\u001b[0m \u001b[1m0s\u001b[0m 793ms/step - accuracy: 0.4332 - loss: 1.1292\n",
      "Epoch 5: val_loss did not improve from 0.82671\n",
      "\u001b[1m121/121\u001b[0m \u001b[32m━━━━━━━━━━━━━━━━━━━━\u001b[0m\u001b[37m\u001b[0m \u001b[1m128s\u001b[0m 998ms/step - accuracy: 0.4247 - loss: 1.1354 - val_accuracy: 0.0604 - val_loss: 1.3351 - learning_rate: 3.0000e-04\n"
     ]
    }
   ],
   "source": [
    "# Cell 8: Stage 1\n",
    "model.compile(\n",
    "    optimizer=keras.optimizers.Adam(CONFIG[\"LR_WARMUP\"]),\n",
    "    loss=keras.losses.SparseCategoricalCrossentropy(),\n",
    "    metrics=[\"accuracy\"]\n",
    ")\n",
    "print(\"[Stage 1] backbone frozen\")\n",
    "hist1 = model.fit(\n",
    "    train_ds, validation_data=val_ds,\n",
    "    epochs=CONFIG[\"WARMUP_EPOCHS\"], callbacks=callbacks,\n",
    "    class_weight=CLASS_WEIGHTS\n",
    ")\n"
   ]
  },
  {
   "cell_type": "code",
   "execution_count": 9,
   "id": "975b51e7",
   "metadata": {},
   "outputs": [
    {
     "name": "stdout",
     "output_type": "stream",
     "text": [
      "[Info] Unfrozen 43/60 (BatchNorm kept frozen)\n",
      "[Stage 2] fine-tuning\n",
      "Epoch 1/20\n",
      "\u001b[1m121/121\u001b[0m \u001b[32m━━━━━━━━━━━━━━━━━━━━\u001b[0m\u001b[37m\u001b[0m \u001b[1m0s\u001b[0m 985ms/step - accuracy: 0.3875 - loss: 1.1682\n",
      "Epoch 1: val_loss did not improve from 0.82671\n",
      "\u001b[1m121/121\u001b[0m \u001b[32m━━━━━━━━━━━━━━━━━━━━\u001b[0m\u001b[37m\u001b[0m \u001b[1m158s\u001b[0m 1s/step - accuracy: 0.4040 - loss: 1.1555 - val_accuracy: 0.2362 - val_loss: 1.1922 - learning_rate: 1.0000e-04\n",
      "Epoch 2/20\n",
      "\u001b[1m121/121\u001b[0m \u001b[32m━━━━━━━━━━━━━━━━━━━━\u001b[0m\u001b[37m\u001b[0m \u001b[1m0s\u001b[0m 957ms/step - accuracy: 0.4534 - loss: 1.1065\n",
      "Epoch 2: val_loss did not improve from 0.82671\n",
      "\u001b[1m121/121\u001b[0m \u001b[32m━━━━━━━━━━━━━━━━━━━━\u001b[0m\u001b[37m\u001b[0m \u001b[1m147s\u001b[0m 1s/step - accuracy: 0.4492 - loss: 1.1062 - val_accuracy: 0.3746 - val_loss: 1.1525 - learning_rate: 1.0000e-04\n",
      "Epoch 3/20\n",
      "\u001b[1m121/121\u001b[0m \u001b[32m━━━━━━━━━━━━━━━━━━━━\u001b[0m\u001b[37m\u001b[0m \u001b[1m0s\u001b[0m 957ms/step - accuracy: 0.4792 - loss: 1.0735\n",
      "Epoch 3: val_loss did not improve from 0.82671\n",
      "\u001b[1m121/121\u001b[0m \u001b[32m━━━━━━━━━━━━━━━━━━━━\u001b[0m\u001b[37m\u001b[0m \u001b[1m147s\u001b[0m 1s/step - accuracy: 0.4903 - loss: 1.0621 - val_accuracy: 0.4194 - val_loss: 1.0307 - learning_rate: 1.0000e-04\n",
      "Epoch 4/20\n",
      "\u001b[1m121/121\u001b[0m \u001b[32m━━━━━━━━━━━━━━━━━━━━\u001b[0m\u001b[37m\u001b[0m \u001b[1m0s\u001b[0m 952ms/step - accuracy: 0.5506 - loss: 1.0213\n",
      "Epoch 4: val_loss improved from 0.82671 to 0.80565, saving model to ./outputs_inceptionv3\\inceptionv3_finetuned_best.keras\n",
      "\u001b[1m121/121\u001b[0m \u001b[32m━━━━━━━━━━━━━━━━━━━━\u001b[0m\u001b[37m\u001b[0m \u001b[1m148s\u001b[0m 1s/step - accuracy: 0.5516 - loss: 0.9995 - val_accuracy: 0.7575 - val_loss: 0.8057 - learning_rate: 5.0000e-05\n",
      "Epoch 5/20\n",
      "\u001b[1m121/121\u001b[0m \u001b[32m━━━━━━━━━━━━━━━━━━━━\u001b[0m\u001b[37m\u001b[0m \u001b[1m0s\u001b[0m 964ms/step - accuracy: 0.5792 - loss: 0.9509\n",
      "Epoch 5: val_loss did not improve from 0.80565\n",
      "\u001b[1m121/121\u001b[0m \u001b[32m━━━━━━━━━━━━━━━━━━━━\u001b[0m\u001b[37m\u001b[0m \u001b[1m150s\u001b[0m 1s/step - accuracy: 0.5849 - loss: 0.9517 - val_accuracy: 0.4318 - val_loss: 1.0401 - learning_rate: 5.0000e-05\n",
      "Epoch 6/20\n",
      "\u001b[1m121/121\u001b[0m \u001b[32m━━━━━━━━━━━━━━━━━━━━\u001b[0m\u001b[37m\u001b[0m \u001b[1m0s\u001b[0m 1s/step - accuracy: 0.6042 - loss: 0.9150\n",
      "Epoch 6: val_loss improved from 0.80565 to 0.68835, saving model to ./outputs_inceptionv3\\inceptionv3_finetuned_best.keras\n",
      "\u001b[1m121/121\u001b[0m \u001b[32m━━━━━━━━━━━━━━━━━━━━\u001b[0m\u001b[37m\u001b[0m \u001b[1m157s\u001b[0m 1s/step - accuracy: 0.6038 - loss: 0.9125 - val_accuracy: 0.7732 - val_loss: 0.6883 - learning_rate: 5.0000e-05\n",
      "Epoch 7/20\n",
      "\u001b[1m121/121\u001b[0m \u001b[32m━━━━━━━━━━━━━━━━━━━━\u001b[0m\u001b[37m\u001b[0m \u001b[1m0s\u001b[0m 1s/step - accuracy: 0.6423 - loss: 0.8402\n",
      "Epoch 7: val_loss did not improve from 0.68835\n",
      "\u001b[1m121/121\u001b[0m \u001b[32m━━━━━━━━━━━━━━━━━━━━\u001b[0m\u001b[37m\u001b[0m \u001b[1m158s\u001b[0m 1s/step - accuracy: 0.6322 - loss: 0.8611 - val_accuracy: 0.7461 - val_loss: 0.7832 - learning_rate: 5.0000e-05\n",
      "Epoch 8/20\n",
      "\u001b[1m121/121\u001b[0m \u001b[32m━━━━━━━━━━━━━━━━━━━━\u001b[0m\u001b[37m\u001b[0m \u001b[1m0s\u001b[0m 1s/step - accuracy: 0.6682 - loss: 0.7982\n",
      "Epoch 8: val_loss did not improve from 0.68835\n",
      "\u001b[1m121/121\u001b[0m \u001b[32m━━━━━━━━━━━━━━━━━━━━\u001b[0m\u001b[37m\u001b[0m \u001b[1m159s\u001b[0m 1s/step - accuracy: 0.6686 - loss: 0.8016 - val_accuracy: 0.6504 - val_loss: 0.8209 - learning_rate: 5.0000e-05\n",
      "Epoch 9/20\n",
      "\u001b[1m121/121\u001b[0m \u001b[32m━━━━━━━━━━━━━━━━━━━━\u001b[0m\u001b[37m\u001b[0m \u001b[1m0s\u001b[0m 1s/step - accuracy: 0.6896 - loss: 0.7845\n",
      "Epoch 9: val_loss did not improve from 0.68835\n",
      "\u001b[1m121/121\u001b[0m \u001b[32m━━━━━━━━━━━━━━━━━━━━\u001b[0m\u001b[37m\u001b[0m \u001b[1m156s\u001b[0m 1s/step - accuracy: 0.6868 - loss: 0.7780 - val_accuracy: 0.5047 - val_loss: 1.0711 - learning_rate: 5.0000e-05\n",
      "Epoch 10/20\n",
      "\u001b[1m121/121\u001b[0m \u001b[32m━━━━━━━━━━━━━━━━━━━━\u001b[0m\u001b[37m\u001b[0m \u001b[1m0s\u001b[0m 982ms/step - accuracy: 0.7127 - loss: 0.7197\n",
      "Epoch 10: val_loss improved from 0.68835 to 0.66004, saving model to ./outputs_inceptionv3\\inceptionv3_finetuned_best.keras\n",
      "\u001b[1m121/121\u001b[0m \u001b[32m━━━━━━━━━━━━━━━━━━━━\u001b[0m\u001b[37m\u001b[0m \u001b[1m153s\u001b[0m 1s/step - accuracy: 0.7252 - loss: 0.6928 - val_accuracy: 0.7607 - val_loss: 0.6600 - learning_rate: 2.5000e-05\n",
      "Epoch 11/20\n",
      "\u001b[1m121/121\u001b[0m \u001b[32m━━━━━━━━━━━━━━━━━━━━\u001b[0m\u001b[37m\u001b[0m \u001b[1m0s\u001b[0m 1s/step - accuracy: 0.7466 - loss: 0.6532\n",
      "Epoch 11: val_loss improved from 0.66004 to 0.46147, saving model to ./outputs_inceptionv3\\inceptionv3_finetuned_best.keras\n",
      "\u001b[1m121/121\u001b[0m \u001b[32m━━━━━━━━━━━━━━━━━━━━\u001b[0m\u001b[37m\u001b[0m \u001b[1m157s\u001b[0m 1s/step - accuracy: 0.7518 - loss: 0.6390 - val_accuracy: 0.8616 - val_loss: 0.4615 - learning_rate: 2.5000e-05\n",
      "Epoch 12/20\n",
      "\u001b[1m121/121\u001b[0m \u001b[32m━━━━━━━━━━━━━━━━━━━━\u001b[0m\u001b[37m\u001b[0m \u001b[1m0s\u001b[0m 993ms/step - accuracy: 0.7933 - loss: 0.5671\n",
      "Epoch 12: val_loss did not improve from 0.46147\n",
      "\u001b[1m121/121\u001b[0m \u001b[32m━━━━━━━━━━━━━━━━━━━━\u001b[0m\u001b[37m\u001b[0m \u001b[1m153s\u001b[0m 1s/step - accuracy: 0.7733 - loss: 0.5990 - val_accuracy: 0.8502 - val_loss: 0.4677 - learning_rate: 2.5000e-05\n",
      "Epoch 13/20\n",
      "\u001b[1m121/121\u001b[0m \u001b[32m━━━━━━━━━━━━━━━━━━━━\u001b[0m\u001b[37m\u001b[0m \u001b[1m0s\u001b[0m 988ms/step - accuracy: 0.8003 - loss: 0.5554\n",
      "Epoch 13: val_loss did not improve from 0.46147\n",
      "\u001b[1m121/121\u001b[0m \u001b[32m━━━━━━━━━━━━━━━━━━━━\u001b[0m\u001b[37m\u001b[0m \u001b[1m151s\u001b[0m 1s/step - accuracy: 0.7905 - loss: 0.5631 - val_accuracy: 0.7846 - val_loss: 0.5986 - learning_rate: 2.5000e-05\n",
      "Epoch 14/20\n",
      "\u001b[1m121/121\u001b[0m \u001b[32m━━━━━━━━━━━━━━━━━━━━\u001b[0m\u001b[37m\u001b[0m \u001b[1m0s\u001b[0m 948ms/step - accuracy: 0.8042 - loss: 0.5545\n",
      "Epoch 14: val_loss did not improve from 0.46147\n",
      "\u001b[1m121/121\u001b[0m \u001b[32m━━━━━━━━━━━━━━━━━━━━\u001b[0m\u001b[37m\u001b[0m \u001b[1m148s\u001b[0m 1s/step - accuracy: 0.8079 - loss: 0.5384 - val_accuracy: 0.6774 - val_loss: 0.8286 - learning_rate: 2.5000e-05\n",
      "Epoch 15/20\n",
      "\u001b[1m121/121\u001b[0m \u001b[32m━━━━━━━━━━━━━━━━━━━━\u001b[0m\u001b[37m\u001b[0m \u001b[1m0s\u001b[0m 995ms/step - accuracy: 0.8435 - loss: 0.4686\n",
      "Epoch 15: val_loss improved from 0.46147 to 0.45203, saving model to ./outputs_inceptionv3\\inceptionv3_finetuned_best.keras\n",
      "\u001b[1m121/121\u001b[0m \u001b[32m━━━━━━━━━━━━━━━━━━━━\u001b[0m\u001b[37m\u001b[0m \u001b[1m155s\u001b[0m 1s/step - accuracy: 0.8391 - loss: 0.4706 - val_accuracy: 0.8387 - val_loss: 0.4520 - learning_rate: 1.2500e-05\n",
      "Epoch 16/20\n",
      "\u001b[1m121/121\u001b[0m \u001b[32m━━━━━━━━━━━━━━━━━━━━\u001b[0m\u001b[37m\u001b[0m \u001b[1m0s\u001b[0m 984ms/step - accuracy: 0.8375 - loss: 0.4588\n",
      "Epoch 16: val_loss did not improve from 0.45203\n",
      "\u001b[1m121/121\u001b[0m \u001b[32m━━━━━━━━━━━━━━━━━━━━\u001b[0m\u001b[37m\u001b[0m \u001b[1m152s\u001b[0m 1s/step - accuracy: 0.8563 - loss: 0.4265 - val_accuracy: 0.8450 - val_loss: 0.4601 - learning_rate: 1.2500e-05\n",
      "Epoch 17/20\n",
      "\u001b[1m121/121\u001b[0m \u001b[32m━━━━━━━━━━━━━━━━━━━━\u001b[0m\u001b[37m\u001b[0m \u001b[1m0s\u001b[0m 988ms/step - accuracy: 0.8489 - loss: 0.4404\n",
      "Epoch 17: val_loss did not improve from 0.45203\n",
      "\u001b[1m121/121\u001b[0m \u001b[32m━━━━━━━━━━━━━━━━━━━━\u001b[0m\u001b[37m\u001b[0m \u001b[1m153s\u001b[0m 1s/step - accuracy: 0.8482 - loss: 0.4417 - val_accuracy: 0.8096 - val_loss: 0.5464 - learning_rate: 1.2500e-05\n",
      "Epoch 18/20\n",
      "\u001b[1m121/121\u001b[0m \u001b[32m━━━━━━━━━━━━━━━━━━━━\u001b[0m\u001b[37m\u001b[0m \u001b[1m0s\u001b[0m 995ms/step - accuracy: 0.8604 - loss: 0.4202\n",
      "Epoch 18: val_loss did not improve from 0.45203\n",
      "\u001b[1m121/121\u001b[0m \u001b[32m━━━━━━━━━━━━━━━━━━━━\u001b[0m\u001b[37m\u001b[0m \u001b[1m154s\u001b[0m 1s/step - accuracy: 0.8656 - loss: 0.4131 - val_accuracy: 0.8325 - val_loss: 0.5253 - learning_rate: 1.2500e-05\n",
      "Epoch 19/20\n",
      "\u001b[1m121/121\u001b[0m \u001b[32m━━━━━━━━━━━━━━━━━━━━\u001b[0m\u001b[37m\u001b[0m \u001b[1m0s\u001b[0m 991ms/step - accuracy: 0.8716 - loss: 0.3883\n",
      "Epoch 19: val_loss did not improve from 0.45203\n",
      "\u001b[1m121/121\u001b[0m \u001b[32m━━━━━━━━━━━━━━━━━━━━\u001b[0m\u001b[37m\u001b[0m \u001b[1m152s\u001b[0m 1s/step - accuracy: 0.8721 - loss: 0.3862 - val_accuracy: 0.8481 - val_loss: 0.4603 - learning_rate: 6.2500e-06\n",
      "Epoch 20/20\n",
      "\u001b[1m121/121\u001b[0m \u001b[32m━━━━━━━━━━━━━━━━━━━━\u001b[0m\u001b[37m\u001b[0m \u001b[1m0s\u001b[0m 956ms/step - accuracy: 0.8714 - loss: 0.3693\n",
      "Epoch 20: val_loss improved from 0.45203 to 0.40375, saving model to ./outputs_inceptionv3\\inceptionv3_finetuned_best.keras\n",
      "\u001b[1m121/121\u001b[0m \u001b[32m━━━━━━━━━━━━━━━━━━━━\u001b[0m\u001b[37m\u001b[0m \u001b[1m148s\u001b[0m 1s/step - accuracy: 0.8807 - loss: 0.3620 - val_accuracy: 0.8699 - val_loss: 0.4038 - learning_rate: 6.2500e-06\n"
     ]
    }
   ],
   "source": [
    "# Cell 9: Stage 2\n",
    "def unfreeze_top_layers(base_model, n_layers=60):\n",
    "    unfrozen = 0\n",
    "    for layer in base_model.layers[-n_layers:]:\n",
    "        if not isinstance(layer, layers.BatchNormalization):\n",
    "            layer.trainable = True\n",
    "            unfrozen += 1\n",
    "    print(f\"[Info] Unfrozen {unfrozen}/{n_layers} (BatchNorm kept frozen)\")\n",
    "\n",
    "unfreeze_top_layers(base, CONFIG[\"UNFREEZE_TOP_N_LAYERS\"])\n",
    "\n",
    "model.compile(\n",
    "    optimizer=keras.optimizers.Adam(CONFIG[\"LR_FINETUNE\"]),\n",
    "    loss=keras.losses.SparseCategoricalCrossentropy(),\n",
    "    metrics=[\"accuracy\"]\n",
    ")\n",
    "print(\"[Stage 2] fine-tuning\")\n",
    "hist2 = model.fit(\n",
    "    train_ds, validation_data=val_ds,\n",
    "    epochs=CONFIG[\"FINETUNE_EPOCHS\"], callbacks=callbacks,\n",
    "    class_weight=CLASS_WEIGHTS\n",
    ")\n"
   ]
  },
  {
   "cell_type": "code",
   "execution_count": 10,
   "id": "e844b6b6",
   "metadata": {},
   "outputs": [
    {
     "name": "stdout",
     "output_type": "stream",
     "text": [
      "[Saved] ./outputs_inceptionv3\\inceptionv3_finetuned_final.keras\n",
      "[TEST] Loss: 2.2796 | Acc: 0.4577\n"
     ]
    }
   ],
   "source": [
    "# Cell 10: Save & Evaluate\n",
    "final_path = os.path.join(CONFIG[\"OUTPUT_DIR\"], f\"{CONFIG['MODEL_NAME']}_final.keras\")\n",
    "model.save(final_path); print(\"[Saved]\", final_path)\n",
    "\n",
    "loss, acc = model.evaluate(test_ds, verbose=0)\n",
    "print(f\"[TEST] Loss: {loss:.4f} | Acc: {acc:.4f}\")\n"
   ]
  },
  {
   "cell_type": "code",
   "execution_count": 11,
   "id": "45a663b0",
   "metadata": {},
   "outputs": [
    {
     "name": "stdout",
     "output_type": "stream",
     "text": [
      "[TEST counts by class index] {0: 257, 1: 289, 2: 612} | order= ['Herniated_Disc', 'No_Stenosis', 'Thecal_Sac']\n",
      "                precision    recall  f1-score   support\n",
      "\n",
      "Herniated_Disc     0.3346    0.6654    0.4453       257\n",
      "   No_Stenosis     0.4598    0.4948    0.4767       289\n",
      "    Thecal_Sac     0.6429    0.3529    0.4557       612\n",
      "\n",
      "      accuracy                         0.4577      1158\n",
      "     macro avg     0.4791    0.5044    0.4592      1158\n",
      "  weighted avg     0.5288    0.4577    0.4586      1158\n",
      "\n"
     ]
    },
    {
     "data": {
      "image/png": "[encoded data removed]",
      "text/plain": [
       "<Figure size 640x480 with 2 Axes>"
      ]
     },
     "metadata": {},
     "output_type": "display_data"
    }
   ],
   "source": [
    "# Cell 11: Test sanity check & confusion matrix\n",
    "import numpy as np\n",
    "from sklearn.metrics import classification_report, confusion_matrix\n",
    "import matplotlib.pyplot as plt, itertools\n",
    "\n",
    "# 1) per-class 샘플 수\n",
    "counts = {i:0 for i in range(NUM_CLASSES)}\n",
    "for _, y in test_ds.unbatch().batch(4096):\n",
    "    y = y.numpy().astype(int)\n",
    "    for i in y: counts[int(i)] += 1\n",
    "print(\"[TEST counts by class index]\", counts, \"| order=\", class_names)\n",
    "\n",
    "# 2) 예측/리포트\n",
    "y_true, y_pred = [], []\n",
    "for xb, yb in test_ds:\n",
    "    p = model.predict(xb, verbose=0)\n",
    "    y_pred.extend(np.argmax(p, axis=1).tolist())\n",
    "    y_true.extend(yb.numpy().astype(int).tolist())\n",
    "\n",
    "print(classification_report(y_true, y_pred, target_names=class_names, digits=4, zero_division=0))\n",
    "\n",
    "# 3) 혼동행렬\n",
    "cm = confusion_matrix(y_true, y_pred, labels=list(range(NUM_CLASSES)))\n",
    "plt.figure()\n",
    "plt.imshow(cm, interpolation='nearest'); plt.title('Confusion Matrix'); plt.colorbar()\n",
    "tick = np.arange(NUM_CLASSES)\n",
    "plt.xticks(tick, class_names, rotation=45); plt.yticks(tick, class_names)\n",
    "th = cm.max()/2\n",
    "for i, j in itertools.product(range(cm.shape[0]), range(cm.shape[1])):\n",
    "    plt.text(j, i, str(cm[i, j]), ha=\"center\",\n",
    "             color=\"white\" if cm[i, j] > th else \"black\")\n",
    "plt.ylabel('True'); plt.xlabel('Pred'); plt.tight_layout(); plt.show()\n"
   ]
  },
  {
   "cell_type": "code",
   "execution_count": null,
   "id": "afa22799",
   "metadata": {},
   "outputs": [],
   "source": []
  }
 ],
 "metadata": {
  "kernelspec": {
   "display_name": "Python 3",
   "language": "python",
   "name": "python3"
  },
  "language_info": {
   "codemirror_mode": {
    "name": "ipython",
    "version": 3
   },
   "file_extension": ".py",
   "mimetype": "text/x-python",
   "name": "python",
   "nbconvert_exporter": "python",
   "pygments_lexer": "ipython3",
   "version": "3.11.9"
  }
 },
 "nbformat": 4,
 "nbformat_minor": 5
}
